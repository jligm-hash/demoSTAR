{
 "cells": [
  {
   "cell_type": "code",
   "execution_count": 1,
   "metadata": {},
   "outputs": [],
   "source": [
    "import Bio\n",
    "import numpy as np\n",
    "import pandas as pd\n",
    "from Bio import SeqIO"
   ]
  },
  {
   "cell_type": "code",
   "execution_count": 2,
   "metadata": {},
   "outputs": [
    {
     "name": "stdout",
     "output_type": "stream",
     "text": [
      "/Users/jiabaoli/Documents/softwares/STAR-2.7.7a/bin/MacOSX_x86_64\r\n"
     ]
    }
   ],
   "source": [
    "!pwd"
   ]
  },
  {
   "cell_type": "code",
   "execution_count": 3,
   "metadata": {},
   "outputs": [
    {
     "name": "stdout",
     "output_type": "stream",
     "text": [
      "Aligned.sortedByCoord.out.bam     \u001b[31mSTARlong\u001b[m\u001b[m\r\n",
      "Aligned.sortedByCoord.out.bam.bai alignedChr21.bam\r\n",
      "ENCFF001RFG.fastq                 \u001b[36mbasic\u001b[m\u001b[m\r\n",
      "ENCFF001RFG.fastq.gz              \u001b[36mchr21\u001b[m\u001b[m\r\n",
      "ENCFF001RFH.fastq                 \u001b[36mgenome\u001b[m\u001b[m\r\n",
      "ENCFF001RFH.fastq.gz              sliceGenome.ipynb\r\n",
      "Homo_sapiens.GRCh37.87.gtf        star.sh\r\n",
      "Homo_sapiens.GRCh38.79.gtf        \u001b[36mtest1\u001b[m\u001b[m\r\n",
      "\u001b[31mSTAR\u001b[m\u001b[m\r\n"
     ]
    }
   ],
   "source": [
    "!ls"
   ]
  },
  {
   "cell_type": "code",
   "execution_count": 6,
   "metadata": {},
   "outputs": [],
   "source": [
    "pwd = '/Users/jiabaoli/Documents/softwares/STAR-2.7.7a/bin/MacOSX_x86_64/genome/' \n",
    "hg38File = 'Homo_sapiens.GRCh38.dna.primary_assembly.fa'"
   ]
  },
  {
   "cell_type": "code",
   "execution_count": 29,
   "metadata": {},
   "outputs": [],
   "source": [
    "recList = SeqIO.parse(pwd+hg38File, 'fasta')"
   ]
  },
  {
   "cell_type": "code",
   "execution_count": 30,
   "metadata": {},
   "outputs": [],
   "source": [
    "resChr21File = 'chr21.hg38.fa'"
   ]
  },
  {
   "cell_type": "code",
   "execution_count": 31,
   "metadata": {},
   "outputs": [],
   "source": [
    "resChr21 = []\n",
    "for record in recList:\n",
    "    if record.id=='21':\n",
    "#         print(record.id)\n",
    "        resChr21.append(record)\n",
    "        SeqIO.write(record, pwd+resChr21File, \"fasta\")"
   ]
  },
  {
   "cell_type": "code",
   "execution_count": 11,
   "metadata": {},
   "outputs": [
    {
     "name": "stdout",
     "output_type": "stream",
     "text": [
      "<Bio.SeqIO.FastaIO.FastaIterator object at 0x7f82b067cd00>\n"
     ]
    }
   ],
   "source": [
    "print(recList)"
   ]
  },
  {
   "cell_type": "code",
   "execution_count": 32,
   "metadata": {},
   "outputs": [
    {
     "data": {
      "text/plain": [
       "[SeqRecord(seq=Seq('NNNNNNNNNNNNNNNNNNNNNNNNNNNNNNNNNNNNNNNNNNNNNNNNNNNNNN...NNN'), id='21', name='21', description='21 dna:chromosome chromosome:GRCh38:21:1:46709983:1 REF', dbxrefs=[])]"
      ]
     },
     "execution_count": 32,
     "metadata": {},
     "output_type": "execute_result"
    }
   ],
   "source": [
    "resChr21"
   ]
  },
  {
   "cell_type": "code",
   "execution_count": null,
   "metadata": {},
   "outputs": [],
   "source": []
  },
  {
   "cell_type": "code",
   "execution_count": 4,
   "metadata": {},
   "outputs": [],
   "source": [
    "pwd = '/Users/jiabaoli/Documents/softwares/STAR-2.7.7a/bin/MacOSX_x86_64/genome/' \n",
    "hg37File = 'Homo_sapiens.GRCh37.dna.primary_assembly.fa'"
   ]
  },
  {
   "cell_type": "code",
   "execution_count": 5,
   "metadata": {},
   "outputs": [],
   "source": [
    "recList = SeqIO.parse(pwd+hg37File, 'fasta')"
   ]
  },
  {
   "cell_type": "code",
   "execution_count": 6,
   "metadata": {},
   "outputs": [],
   "source": [
    "resChr21File = 'chr21.hg37.fa'"
   ]
  },
  {
   "cell_type": "code",
   "execution_count": 7,
   "metadata": {},
   "outputs": [],
   "source": [
    "resChr21 = []\n",
    "for record in recList:\n",
    "    if record.id=='21':\n",
    "#         print(record.id)\n",
    "        resChr21.append(record)\n",
    "        SeqIO.write(record, pwd+resChr21File, \"fasta\")"
   ]
  },
  {
   "cell_type": "code",
   "execution_count": null,
   "metadata": {},
   "outputs": [],
   "source": []
  },
  {
   "cell_type": "code",
   "execution_count": null,
   "metadata": {},
   "outputs": [],
   "source": []
  },
  {
   "cell_type": "code",
   "execution_count": null,
   "metadata": {},
   "outputs": [],
   "source": []
  }
 ],
 "metadata": {
  "kernelspec": {
   "display_name": "Python 3",
   "language": "python",
   "name": "python3"
  },
  "language_info": {
   "codemirror_mode": {
    "name": "ipython",
    "version": 3
   },
   "file_extension": ".py",
   "mimetype": "text/x-python",
   "name": "python",
   "nbconvert_exporter": "python",
   "pygments_lexer": "ipython3",
   "version": "3.8.2"
  }
 },
 "nbformat": 4,
 "nbformat_minor": 4
}
